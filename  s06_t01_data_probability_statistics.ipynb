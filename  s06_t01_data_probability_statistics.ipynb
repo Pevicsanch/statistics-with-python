{
 "cells": [
  {
   "cell_type": "markdown",
   "id": "857001a9",
   "metadata": {},
   "source": [
    "$~$\n",
    "\n",
    "# IT Academy - Data Science Itinerary\n",
    "\n",
    "$~$\n",
    "\n"
   ]
  },
  {
   "cell_type": "markdown",
   "id": "ad6e86cc",
   "metadata": {},
   "source": [
    "## S06 T01: Data, Probability & Statistics\n",
    "__________\n"
   ]
  },
  {
   "cell_type": "markdown",
   "id": "7557656a",
   "metadata": {},
   "source": [
    "$~$\n",
    "\n",
    "####  Exercise 1\n",
    "\n",
    "$~$\n",
    "\n",
    "Grab a sports theme dataset you like and select an attribute from the dataset. Calculate the mode, the median, the standard deviation, and the arithmetic mean.\n",
    "\n",
    "$~$\n",
    "___"
   ]
  },
  {
   "cell_type": "markdown",
   "id": "214112c9",
   "metadata": {},
   "source": [
    "$~$\n",
    "\n",
    "####  Exercise 2\n",
    "\n",
    "$~$\n",
    "\n",
    "Continuing with the sports topic data, select two attributes and calculate their correlation.\n",
    "\n",
    "$~$\n",
    "___"
   ]
  },
  {
   "cell_type": "markdown",
   "id": "3c25341e",
   "metadata": {},
   "source": [
    "$~$\n",
    "\n",
    "####  Exercise 3\n",
    "\n",
    "$~$\n",
    "\n",
    "Continuing with the sports theme data, calculate the correlation of all attributes with each other and represent them in a matrix with different colors of intensity.\n",
    "$~$\n",
    "___"
   ]
  },
  {
   "cell_type": "markdown",
   "id": "435defc0",
   "metadata": {},
   "source": [
    "$~$\n",
    "\n",
    "####  Exercise 4\n",
    "\n",
    "$~$\n",
    "\n",
    "Continuing with the sports theme data, select an attribute and calculate the geometric mean and harmonic mean.\n",
    "$~$\n",
    "___"
   ]
  },
  {
   "cell_type": "markdown",
   "id": "d0eedf5c",
   "metadata": {},
   "source": [
    "___\n",
    "$~$\n",
    "\n",
    "####  *references*:\n",
    "\n",
    "+ []() :\n",
    "+ []() :\n",
    "+ []() :\n",
    "\n",
    "$~$\n",
    "___"
   ]
  }
 ],
 "metadata": {
  "kernelspec": {
   "display_name": "Python 3 (ipykernel)",
   "language": "python",
   "name": "python3"
  },
  "language_info": {
   "codemirror_mode": {
    "name": "ipython",
    "version": 3
   },
   "file_extension": ".py",
   "mimetype": "text/x-python",
   "name": "python",
   "nbconvert_exporter": "python",
   "pygments_lexer": "ipython3",
   "version": "3.9.7"
  },
  "toc": {
   "base_numbering": 1,
   "nav_menu": {},
   "number_sections": false,
   "sideBar": true,
   "skip_h1_title": false,
   "title_cell": "Table of Contents",
   "title_sidebar": "Contents",
   "toc_cell": false,
   "toc_position": {},
   "toc_section_display": true,
   "toc_window_display": true
  }
 },
 "nbformat": 4,
 "nbformat_minor": 5
}
